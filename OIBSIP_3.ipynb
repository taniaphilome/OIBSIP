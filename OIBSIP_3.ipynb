{
  "nbformat": 4,
  "nbformat_minor": 0,
  "metadata": {
    "colab": {
      "provenance": []
    },
    "kernelspec": {
      "name": "python3",
      "display_name": "Python 3"
    },
    "language_info": {
      "name": "python"
    }
  },
  "cells": [
    {
      "cell_type": "code",
      "execution_count": 1,
      "metadata": {
        "id": "iNFEL_FVOZFZ"
      },
      "outputs": [],
      "source": [
        "#import the necessary libraries\n",
        "import pandas as pd\n",
        "import numpy as np\n",
        "from sklearn.preprocessing import StandardScaler\n",
        "from scipy import stats\n",
        "import matplotlib.pyplot as plt\n"
      ]
    },
    {
      "cell_type": "code",
      "source": [
        "#load the dataset\n",
        "ds = pd.read_csv('/content/drive/MyDrive/AB_NYC_2019.csv', encoding='latin1')\n"
      ],
      "metadata": {
        "id": "MQPRVVbrOfUc"
      },
      "execution_count": 2,
      "outputs": []
    },
    {
      "cell_type": "code",
      "source": [
        "ds.head()"
      ],
      "metadata": {
        "colab": {
          "base_uri": "https://localhost:8080/",
          "height": 417
        },
        "id": "t6rRVdPGOy7q",
        "outputId": "9613caa5-fd2b-46d5-a8dc-e8aae8d844db"
      },
      "execution_count": null,
      "outputs": [
        {
          "output_type": "execute_result",
          "data": {
            "text/plain": [
              "     id                                              name  host_id  \\\n",
              "0  2539                Clean & quiet apt home by the park     2787   \n",
              "1  2595                             Skylit Midtown Castle     2845   \n",
              "2  3647               THE VILLAGE OF HARLEM....NEW YORK !     4632   \n",
              "3  3831                   Cozy Entire Floor of Brownstone     4869   \n",
              "4  5022  Entire Apt: Spacious Studio/Loft by central park     7192   \n",
              "\n",
              "     host_name neighbourhood_group neighbourhood  latitude  longitude  \\\n",
              "0         John            Brooklyn    Kensington  40.64749  -73.97237   \n",
              "1     Jennifer           Manhattan       Midtown  40.75362  -73.98377   \n",
              "2    Elisabeth           Manhattan        Harlem  40.80902  -73.94190   \n",
              "3  LisaRoxanne            Brooklyn  Clinton Hill  40.68514  -73.95976   \n",
              "4        Laura           Manhattan   East Harlem  40.79851  -73.94399   \n",
              "\n",
              "         room_type  price  minimum_nights  number_of_reviews last_review  \\\n",
              "0     Private room    149               1                  9  19-10-2018   \n",
              "1  Entire home/apt    225               1                 45  21-05-2019   \n",
              "2     Private room    150               3                  0         NaN   \n",
              "3  Entire home/apt     89               1                270  05-07-2019   \n",
              "4  Entire home/apt     80              10                  9  19-11-2018   \n",
              "\n",
              "   reviews_per_month  calculated_host_listings_count  availability_365  \n",
              "0               0.21                               6               365  \n",
              "1               0.38                               2               355  \n",
              "2                NaN                               1               365  \n",
              "3               4.64                               1               194  \n",
              "4               0.10                               1                 0  "
            ],
            "text/html": [
              "\n",
              "  <div id=\"df-71a367e2-9148-4ace-a1cd-5251c127601d\" class=\"colab-df-container\">\n",
              "    <div>\n",
              "<style scoped>\n",
              "    .dataframe tbody tr th:only-of-type {\n",
              "        vertical-align: middle;\n",
              "    }\n",
              "\n",
              "    .dataframe tbody tr th {\n",
              "        vertical-align: top;\n",
              "    }\n",
              "\n",
              "    .dataframe thead th {\n",
              "        text-align: right;\n",
              "    }\n",
              "</style>\n",
              "<table border=\"1\" class=\"dataframe\">\n",
              "  <thead>\n",
              "    <tr style=\"text-align: right;\">\n",
              "      <th></th>\n",
              "      <th>id</th>\n",
              "      <th>name</th>\n",
              "      <th>host_id</th>\n",
              "      <th>host_name</th>\n",
              "      <th>neighbourhood_group</th>\n",
              "      <th>neighbourhood</th>\n",
              "      <th>latitude</th>\n",
              "      <th>longitude</th>\n",
              "      <th>room_type</th>\n",
              "      <th>price</th>\n",
              "      <th>minimum_nights</th>\n",
              "      <th>number_of_reviews</th>\n",
              "      <th>last_review</th>\n",
              "      <th>reviews_per_month</th>\n",
              "      <th>calculated_host_listings_count</th>\n",
              "      <th>availability_365</th>\n",
              "    </tr>\n",
              "  </thead>\n",
              "  <tbody>\n",
              "    <tr>\n",
              "      <th>0</th>\n",
              "      <td>2539</td>\n",
              "      <td>Clean &amp; quiet apt home by the park</td>\n",
              "      <td>2787</td>\n",
              "      <td>John</td>\n",
              "      <td>Brooklyn</td>\n",
              "      <td>Kensington</td>\n",
              "      <td>40.64749</td>\n",
              "      <td>-73.97237</td>\n",
              "      <td>Private room</td>\n",
              "      <td>149</td>\n",
              "      <td>1</td>\n",
              "      <td>9</td>\n",
              "      <td>19-10-2018</td>\n",
              "      <td>0.21</td>\n",
              "      <td>6</td>\n",
              "      <td>365</td>\n",
              "    </tr>\n",
              "    <tr>\n",
              "      <th>1</th>\n",
              "      <td>2595</td>\n",
              "      <td>Skylit Midtown Castle</td>\n",
              "      <td>2845</td>\n",
              "      <td>Jennifer</td>\n",
              "      <td>Manhattan</td>\n",
              "      <td>Midtown</td>\n",
              "      <td>40.75362</td>\n",
              "      <td>-73.98377</td>\n",
              "      <td>Entire home/apt</td>\n",
              "      <td>225</td>\n",
              "      <td>1</td>\n",
              "      <td>45</td>\n",
              "      <td>21-05-2019</td>\n",
              "      <td>0.38</td>\n",
              "      <td>2</td>\n",
              "      <td>355</td>\n",
              "    </tr>\n",
              "    <tr>\n",
              "      <th>2</th>\n",
              "      <td>3647</td>\n",
              "      <td>THE VILLAGE OF HARLEM....NEW YORK !</td>\n",
              "      <td>4632</td>\n",
              "      <td>Elisabeth</td>\n",
              "      <td>Manhattan</td>\n",
              "      <td>Harlem</td>\n",
              "      <td>40.80902</td>\n",
              "      <td>-73.94190</td>\n",
              "      <td>Private room</td>\n",
              "      <td>150</td>\n",
              "      <td>3</td>\n",
              "      <td>0</td>\n",
              "      <td>NaN</td>\n",
              "      <td>NaN</td>\n",
              "      <td>1</td>\n",
              "      <td>365</td>\n",
              "    </tr>\n",
              "    <tr>\n",
              "      <th>3</th>\n",
              "      <td>3831</td>\n",
              "      <td>Cozy Entire Floor of Brownstone</td>\n",
              "      <td>4869</td>\n",
              "      <td>LisaRoxanne</td>\n",
              "      <td>Brooklyn</td>\n",
              "      <td>Clinton Hill</td>\n",
              "      <td>40.68514</td>\n",
              "      <td>-73.95976</td>\n",
              "      <td>Entire home/apt</td>\n",
              "      <td>89</td>\n",
              "      <td>1</td>\n",
              "      <td>270</td>\n",
              "      <td>05-07-2019</td>\n",
              "      <td>4.64</td>\n",
              "      <td>1</td>\n",
              "      <td>194</td>\n",
              "    </tr>\n",
              "    <tr>\n",
              "      <th>4</th>\n",
              "      <td>5022</td>\n",
              "      <td>Entire Apt: Spacious Studio/Loft by central park</td>\n",
              "      <td>7192</td>\n",
              "      <td>Laura</td>\n",
              "      <td>Manhattan</td>\n",
              "      <td>East Harlem</td>\n",
              "      <td>40.79851</td>\n",
              "      <td>-73.94399</td>\n",
              "      <td>Entire home/apt</td>\n",
              "      <td>80</td>\n",
              "      <td>10</td>\n",
              "      <td>9</td>\n",
              "      <td>19-11-2018</td>\n",
              "      <td>0.10</td>\n",
              "      <td>1</td>\n",
              "      <td>0</td>\n",
              "    </tr>\n",
              "  </tbody>\n",
              "</table>\n",
              "</div>\n",
              "    <div class=\"colab-df-buttons\">\n",
              "\n",
              "  <div class=\"colab-df-container\">\n",
              "    <button class=\"colab-df-convert\" onclick=\"convertToInteractive('df-71a367e2-9148-4ace-a1cd-5251c127601d')\"\n",
              "            title=\"Convert this dataframe to an interactive table.\"\n",
              "            style=\"display:none;\">\n",
              "\n",
              "  <svg xmlns=\"http://www.w3.org/2000/svg\" height=\"24px\" viewBox=\"0 -960 960 960\">\n",
              "    <path d=\"M120-120v-720h720v720H120Zm60-500h600v-160H180v160Zm220 220h160v-160H400v160Zm0 220h160v-160H400v160ZM180-400h160v-160H180v160Zm440 0h160v-160H620v160ZM180-180h160v-160H180v160Zm440 0h160v-160H620v160Z\"/>\n",
              "  </svg>\n",
              "    </button>\n",
              "\n",
              "  <style>\n",
              "    .colab-df-container {\n",
              "      display:flex;\n",
              "      gap: 12px;\n",
              "    }\n",
              "\n",
              "    .colab-df-convert {\n",
              "      background-color: #E8F0FE;\n",
              "      border: none;\n",
              "      border-radius: 50%;\n",
              "      cursor: pointer;\n",
              "      display: none;\n",
              "      fill: #1967D2;\n",
              "      height: 32px;\n",
              "      padding: 0 0 0 0;\n",
              "      width: 32px;\n",
              "    }\n",
              "\n",
              "    .colab-df-convert:hover {\n",
              "      background-color: #E2EBFA;\n",
              "      box-shadow: 0px 1px 2px rgba(60, 64, 67, 0.3), 0px 1px 3px 1px rgba(60, 64, 67, 0.15);\n",
              "      fill: #174EA6;\n",
              "    }\n",
              "\n",
              "    .colab-df-buttons div {\n",
              "      margin-bottom: 4px;\n",
              "    }\n",
              "\n",
              "    [theme=dark] .colab-df-convert {\n",
              "      background-color: #3B4455;\n",
              "      fill: #D2E3FC;\n",
              "    }\n",
              "\n",
              "    [theme=dark] .colab-df-convert:hover {\n",
              "      background-color: #434B5C;\n",
              "      box-shadow: 0px 1px 3px 1px rgba(0, 0, 0, 0.15);\n",
              "      filter: drop-shadow(0px 1px 2px rgba(0, 0, 0, 0.3));\n",
              "      fill: #FFFFFF;\n",
              "    }\n",
              "  </style>\n",
              "\n",
              "    <script>\n",
              "      const buttonEl =\n",
              "        document.querySelector('#df-71a367e2-9148-4ace-a1cd-5251c127601d button.colab-df-convert');\n",
              "      buttonEl.style.display =\n",
              "        google.colab.kernel.accessAllowed ? 'block' : 'none';\n",
              "\n",
              "      async function convertToInteractive(key) {\n",
              "        const element = document.querySelector('#df-71a367e2-9148-4ace-a1cd-5251c127601d');\n",
              "        const dataTable =\n",
              "          await google.colab.kernel.invokeFunction('convertToInteractive',\n",
              "                                                    [key], {});\n",
              "        if (!dataTable) return;\n",
              "\n",
              "        const docLinkHtml = 'Like what you see? Visit the ' +\n",
              "          '<a target=\"_blank\" href=https://colab.research.google.com/notebooks/data_table.ipynb>data table notebook</a>'\n",
              "          + ' to learn more about interactive tables.';\n",
              "        element.innerHTML = '';\n",
              "        dataTable['output_type'] = 'display_data';\n",
              "        await google.colab.output.renderOutput(dataTable, element);\n",
              "        const docLink = document.createElement('div');\n",
              "        docLink.innerHTML = docLinkHtml;\n",
              "        element.appendChild(docLink);\n",
              "      }\n",
              "    </script>\n",
              "  </div>\n",
              "\n",
              "\n",
              "<div id=\"df-1caf1ac4-d817-48e7-9f55-ae32b2052342\">\n",
              "  <button class=\"colab-df-quickchart\" onclick=\"quickchart('df-1caf1ac4-d817-48e7-9f55-ae32b2052342')\"\n",
              "            title=\"Suggest charts\"\n",
              "            style=\"display:none;\">\n",
              "\n",
              "<svg xmlns=\"http://www.w3.org/2000/svg\" height=\"24px\"viewBox=\"0 0 24 24\"\n",
              "     width=\"24px\">\n",
              "    <g>\n",
              "        <path d=\"M19 3H5c-1.1 0-2 .9-2 2v14c0 1.1.9 2 2 2h14c1.1 0 2-.9 2-2V5c0-1.1-.9-2-2-2zM9 17H7v-7h2v7zm4 0h-2V7h2v10zm4 0h-2v-4h2v4z\"/>\n",
              "    </g>\n",
              "</svg>\n",
              "  </button>\n",
              "\n",
              "<style>\n",
              "  .colab-df-quickchart {\n",
              "      --bg-color: #E8F0FE;\n",
              "      --fill-color: #1967D2;\n",
              "      --hover-bg-color: #E2EBFA;\n",
              "      --hover-fill-color: #174EA6;\n",
              "      --disabled-fill-color: #AAA;\n",
              "      --disabled-bg-color: #DDD;\n",
              "  }\n",
              "\n",
              "  [theme=dark] .colab-df-quickchart {\n",
              "      --bg-color: #3B4455;\n",
              "      --fill-color: #D2E3FC;\n",
              "      --hover-bg-color: #434B5C;\n",
              "      --hover-fill-color: #FFFFFF;\n",
              "      --disabled-bg-color: #3B4455;\n",
              "      --disabled-fill-color: #666;\n",
              "  }\n",
              "\n",
              "  .colab-df-quickchart {\n",
              "    background-color: var(--bg-color);\n",
              "    border: none;\n",
              "    border-radius: 50%;\n",
              "    cursor: pointer;\n",
              "    display: none;\n",
              "    fill: var(--fill-color);\n",
              "    height: 32px;\n",
              "    padding: 0;\n",
              "    width: 32px;\n",
              "  }\n",
              "\n",
              "  .colab-df-quickchart:hover {\n",
              "    background-color: var(--hover-bg-color);\n",
              "    box-shadow: 0 1px 2px rgba(60, 64, 67, 0.3), 0 1px 3px 1px rgba(60, 64, 67, 0.15);\n",
              "    fill: var(--button-hover-fill-color);\n",
              "  }\n",
              "\n",
              "  .colab-df-quickchart-complete:disabled,\n",
              "  .colab-df-quickchart-complete:disabled:hover {\n",
              "    background-color: var(--disabled-bg-color);\n",
              "    fill: var(--disabled-fill-color);\n",
              "    box-shadow: none;\n",
              "  }\n",
              "\n",
              "  .colab-df-spinner {\n",
              "    border: 2px solid var(--fill-color);\n",
              "    border-color: transparent;\n",
              "    border-bottom-color: var(--fill-color);\n",
              "    animation:\n",
              "      spin 1s steps(1) infinite;\n",
              "  }\n",
              "\n",
              "  @keyframes spin {\n",
              "    0% {\n",
              "      border-color: transparent;\n",
              "      border-bottom-color: var(--fill-color);\n",
              "      border-left-color: var(--fill-color);\n",
              "    }\n",
              "    20% {\n",
              "      border-color: transparent;\n",
              "      border-left-color: var(--fill-color);\n",
              "      border-top-color: var(--fill-color);\n",
              "    }\n",
              "    30% {\n",
              "      border-color: transparent;\n",
              "      border-left-color: var(--fill-color);\n",
              "      border-top-color: var(--fill-color);\n",
              "      border-right-color: var(--fill-color);\n",
              "    }\n",
              "    40% {\n",
              "      border-color: transparent;\n",
              "      border-right-color: var(--fill-color);\n",
              "      border-top-color: var(--fill-color);\n",
              "    }\n",
              "    60% {\n",
              "      border-color: transparent;\n",
              "      border-right-color: var(--fill-color);\n",
              "    }\n",
              "    80% {\n",
              "      border-color: transparent;\n",
              "      border-right-color: var(--fill-color);\n",
              "      border-bottom-color: var(--fill-color);\n",
              "    }\n",
              "    90% {\n",
              "      border-color: transparent;\n",
              "      border-bottom-color: var(--fill-color);\n",
              "    }\n",
              "  }\n",
              "</style>\n",
              "\n",
              "  <script>\n",
              "    async function quickchart(key) {\n",
              "      const quickchartButtonEl =\n",
              "        document.querySelector('#' + key + ' button');\n",
              "      quickchartButtonEl.disabled = true;  // To prevent multiple clicks.\n",
              "      quickchartButtonEl.classList.add('colab-df-spinner');\n",
              "      try {\n",
              "        const charts = await google.colab.kernel.invokeFunction(\n",
              "            'suggestCharts', [key], {});\n",
              "      } catch (error) {\n",
              "        console.error('Error during call to suggestCharts:', error);\n",
              "      }\n",
              "      quickchartButtonEl.classList.remove('colab-df-spinner');\n",
              "      quickchartButtonEl.classList.add('colab-df-quickchart-complete');\n",
              "    }\n",
              "    (() => {\n",
              "      let quickchartButtonEl =\n",
              "        document.querySelector('#df-1caf1ac4-d817-48e7-9f55-ae32b2052342 button');\n",
              "      quickchartButtonEl.style.display =\n",
              "        google.colab.kernel.accessAllowed ? 'block' : 'none';\n",
              "    })();\n",
              "  </script>\n",
              "</div>\n",
              "\n",
              "    </div>\n",
              "  </div>\n"
            ],
            "application/vnd.google.colaboratory.intrinsic+json": {
              "type": "dataframe",
              "variable_name": "ds",
              "summary": "{\n  \"name\": \"ds\",\n  \"rows\": 48895,\n  \"fields\": [\n    {\n      \"column\": \"id\",\n      \"properties\": {\n        \"dtype\": \"number\",\n        \"std\": 10983108,\n        \"min\": 2539,\n        \"max\": 36487245,\n        \"num_unique_values\": 48895,\n        \"samples\": [\n          317905,\n          34205267,\n          12342297\n        ],\n        \"semantic_type\": \"\",\n        \"description\": \"\"\n      }\n    },\n    {\n      \"column\": \"name\",\n      \"properties\": {\n        \"dtype\": \"string\",\n        \"num_unique_values\": 47863,\n        \"samples\": [\n          \"Perfect Location! 2BR Oasis in Heart of Chelsea\",\n          \"Cozy Room 1\",\n          \"Trendy, newly renovated 1 BD Apt.\"\n        ],\n        \"semantic_type\": \"\",\n        \"description\": \"\"\n      }\n    },\n    {\n      \"column\": \"host_id\",\n      \"properties\": {\n        \"dtype\": \"number\",\n        \"std\": 78610967,\n        \"min\": 2438,\n        \"max\": 274321313,\n        \"num_unique_values\": 37457,\n        \"samples\": [\n          1504257,\n          5592151,\n          208938947\n        ],\n        \"semantic_type\": \"\",\n        \"description\": \"\"\n      }\n    },\n    {\n      \"column\": \"host_name\",\n      \"properties\": {\n        \"dtype\": \"category\",\n        \"num_unique_values\": 11410,\n        \"samples\": [\n          \"Santron\",\n          \"Genni And Stephen\",\n          \"Emily & Joseph\"\n        ],\n        \"semantic_type\": \"\",\n        \"description\": \"\"\n      }\n    },\n    {\n      \"column\": \"neighbourhood_group\",\n      \"properties\": {\n        \"dtype\": \"category\",\n        \"num_unique_values\": 5,\n        \"samples\": [\n          \"Manhattan\",\n          \"Bronx\",\n          \"Queens\"\n        ],\n        \"semantic_type\": \"\",\n        \"description\": \"\"\n      }\n    },\n    {\n      \"column\": \"neighbourhood\",\n      \"properties\": {\n        \"dtype\": \"category\",\n        \"num_unique_values\": 221,\n        \"samples\": [\n          \"Stuyvesant Town\",\n          \"Eltingville\",\n          \"Stapleton\"\n        ],\n        \"semantic_type\": \"\",\n        \"description\": \"\"\n      }\n    },\n    {\n      \"column\": \"latitude\",\n      \"properties\": {\n        \"dtype\": \"number\",\n        \"std\": 0.054530078057371915,\n        \"min\": 40.49979,\n        \"max\": 40.91306,\n        \"num_unique_values\": 19048,\n        \"samples\": [\n          40.75913,\n          40.68314,\n          40.72126\n        ],\n        \"semantic_type\": \"\",\n        \"description\": \"\"\n      }\n    },\n    {\n      \"column\": \"longitude\",\n      \"properties\": {\n        \"dtype\": \"number\",\n        \"std\": 0.04615673610637153,\n        \"min\": -74.24442,\n        \"max\": -73.71299,\n        \"num_unique_values\": 14718,\n        \"samples\": [\n          -73.88892,\n          -73.87851,\n          -73.97175\n        ],\n        \"semantic_type\": \"\",\n        \"description\": \"\"\n      }\n    },\n    {\n      \"column\": \"room_type\",\n      \"properties\": {\n        \"dtype\": \"category\",\n        \"num_unique_values\": 3,\n        \"samples\": [\n          \"Private room\",\n          \"Entire home/apt\",\n          \"Shared room\"\n        ],\n        \"semantic_type\": \"\",\n        \"description\": \"\"\n      }\n    },\n    {\n      \"column\": \"price\",\n      \"properties\": {\n        \"dtype\": \"number\",\n        \"std\": 240,\n        \"min\": 0,\n        \"max\": 10000,\n        \"num_unique_values\": 674,\n        \"samples\": [\n          519,\n          675,\n          488\n        ],\n        \"semantic_type\": \"\",\n        \"description\": \"\"\n      }\n    },\n    {\n      \"column\": \"minimum_nights\",\n      \"properties\": {\n        \"dtype\": \"number\",\n        \"std\": 20,\n        \"min\": 1,\n        \"max\": 1250,\n        \"num_unique_values\": 109,\n        \"samples\": [\n          160,\n          60,\n          2\n        ],\n        \"semantic_type\": \"\",\n        \"description\": \"\"\n      }\n    },\n    {\n      \"column\": \"number_of_reviews\",\n      \"properties\": {\n        \"dtype\": \"number\",\n        \"std\": 44,\n        \"min\": 0,\n        \"max\": 629,\n        \"num_unique_values\": 394,\n        \"samples\": [\n          12,\n          144,\n          314\n        ],\n        \"semantic_type\": \"\",\n        \"description\": \"\"\n      }\n    },\n    {\n      \"column\": \"last_review\",\n      \"properties\": {\n        \"dtype\": \"object\",\n        \"num_unique_values\": 1764,\n        \"samples\": [\n          \"26-07-2016\",\n          \"21-05-2018\",\n          \"27-02-2019\"\n        ],\n        \"semantic_type\": \"\",\n        \"description\": \"\"\n      }\n    },\n    {\n      \"column\": \"reviews_per_month\",\n      \"properties\": {\n        \"dtype\": \"number\",\n        \"std\": 1.6804419952744725,\n        \"min\": 0.01,\n        \"max\": 58.5,\n        \"num_unique_values\": 937,\n        \"samples\": [\n          1.7,\n          0.28,\n          2.14\n        ],\n        \"semantic_type\": \"\",\n        \"description\": \"\"\n      }\n    },\n    {\n      \"column\": \"calculated_host_listings_count\",\n      \"properties\": {\n        \"dtype\": \"number\",\n        \"std\": 32,\n        \"min\": 1,\n        \"max\": 327,\n        \"num_unique_values\": 47,\n        \"samples\": [\n          37,\n          17,\n          121\n        ],\n        \"semantic_type\": \"\",\n        \"description\": \"\"\n      }\n    },\n    {\n      \"column\": \"availability_365\",\n      \"properties\": {\n        \"dtype\": \"number\",\n        \"std\": 131,\n        \"min\": 0,\n        \"max\": 365,\n        \"num_unique_values\": 366,\n        \"samples\": [\n          335,\n          309,\n          249\n        ],\n        \"semantic_type\": \"\",\n        \"description\": \"\"\n      }\n    }\n  ]\n}"
            }
          },
          "metadata": {},
          "execution_count": 22
        }
      ]
    },
    {
      "cell_type": "code",
      "source": [
        "ds.shape[0]"
      ],
      "metadata": {
        "colab": {
          "base_uri": "https://localhost:8080/"
        },
        "id": "9pQZ4LKmO5Fg",
        "outputId": "ecec7326-4033-4ee3-cf8b-8be6573e10bf"
      },
      "execution_count": null,
      "outputs": [
        {
          "output_type": "execute_result",
          "data": {
            "text/plain": [
              "48895"
            ]
          },
          "metadata": {},
          "execution_count": 4
        }
      ]
    },
    {
      "cell_type": "code",
      "source": [
        "ds.info()"
      ],
      "metadata": {
        "colab": {
          "base_uri": "https://localhost:8080/"
        },
        "id": "Gb-KF-DBO1-7",
        "outputId": "5c32376b-5d71-4d36-b1fa-037b8c5709b9"
      },
      "execution_count": null,
      "outputs": [
        {
          "output_type": "stream",
          "name": "stdout",
          "text": [
            "<class 'pandas.core.frame.DataFrame'>\n",
            "RangeIndex: 48895 entries, 0 to 48894\n",
            "Data columns (total 16 columns):\n",
            " #   Column                          Non-Null Count  Dtype  \n",
            "---  ------                          --------------  -----  \n",
            " 0   id                              48895 non-null  int64  \n",
            " 1   name                            48879 non-null  object \n",
            " 2   host_id                         48895 non-null  int64  \n",
            " 3   host_name                       48874 non-null  object \n",
            " 4   neighbourhood_group             48895 non-null  object \n",
            " 5   neighbourhood                   48895 non-null  object \n",
            " 6   latitude                        48895 non-null  float64\n",
            " 7   longitude                       48895 non-null  float64\n",
            " 8   room_type                       48895 non-null  object \n",
            " 9   price                           48895 non-null  int64  \n",
            " 10  minimum_nights                  48895 non-null  int64  \n",
            " 11  number_of_reviews               48895 non-null  int64  \n",
            " 12  last_review                     38843 non-null  object \n",
            " 13  reviews_per_month               38843 non-null  float64\n",
            " 14  calculated_host_listings_count  48895 non-null  int64  \n",
            " 15  availability_365                48895 non-null  int64  \n",
            "dtypes: float64(3), int64(7), object(6)\n",
            "memory usage: 6.0+ MB\n"
          ]
        }
      ]
    },
    {
      "cell_type": "code",
      "source": [
        "ds.isnull().sum()"
      ],
      "metadata": {
        "colab": {
          "base_uri": "https://localhost:8080/"
        },
        "id": "64rSHIt1O3TP",
        "outputId": "170a42d8-5190-4c96-bb41-6ec97f3c2206"
      },
      "execution_count": null,
      "outputs": [
        {
          "output_type": "execute_result",
          "data": {
            "text/plain": [
              "id                                    0\n",
              "name                                 16\n",
              "host_id                               0\n",
              "host_name                            21\n",
              "neighbourhood_group                   0\n",
              "neighbourhood                         0\n",
              "latitude                              0\n",
              "longitude                             0\n",
              "room_type                             0\n",
              "price                                 0\n",
              "minimum_nights                        0\n",
              "number_of_reviews                     0\n",
              "last_review                       10052\n",
              "reviews_per_month                 10052\n",
              "calculated_host_listings_count        0\n",
              "availability_365                      0\n",
              "dtype: int64"
            ]
          },
          "metadata": {},
          "execution_count": 6
        }
      ]
    },
    {
      "cell_type": "code",
      "source": [
        "ds.isnull().sum()/ds.shape[0]*100"
      ],
      "metadata": {
        "colab": {
          "base_uri": "https://localhost:8080/"
        },
        "id": "JYhnWvw_PD_i",
        "outputId": "91162833-9a78-4360-f51e-0f4f50cd9b5f"
      },
      "execution_count": null,
      "outputs": [
        {
          "output_type": "execute_result",
          "data": {
            "text/plain": [
              "id                                 0.000000\n",
              "name                               0.032723\n",
              "host_id                            0.000000\n",
              "host_name                          0.042949\n",
              "neighbourhood_group                0.000000\n",
              "neighbourhood                      0.000000\n",
              "latitude                           0.000000\n",
              "longitude                          0.000000\n",
              "room_type                          0.000000\n",
              "price                              0.000000\n",
              "minimum_nights                     0.000000\n",
              "number_of_reviews                  0.000000\n",
              "last_review                       20.558339\n",
              "reviews_per_month                 20.558339\n",
              "calculated_host_listings_count     0.000000\n",
              "availability_365                   0.000000\n",
              "dtype: float64"
            ]
          },
          "metadata": {},
          "execution_count": 7
        }
      ]
    },
    {
      "cell_type": "code",
      "source": [
        "ds.dtypes"
      ],
      "metadata": {
        "colab": {
          "base_uri": "https://localhost:8080/"
        },
        "id": "S9GmjbdFPISR",
        "outputId": "80db2611-5974-4bb1-a5fc-3542e4831dc9"
      },
      "execution_count": null,
      "outputs": [
        {
          "output_type": "execute_result",
          "data": {
            "text/plain": [
              "id                                  int64\n",
              "name                               object\n",
              "host_id                             int64\n",
              "host_name                          object\n",
              "neighbourhood_group                object\n",
              "neighbourhood                      object\n",
              "latitude                          float64\n",
              "longitude                         float64\n",
              "room_type                          object\n",
              "price                               int64\n",
              "minimum_nights                      int64\n",
              "number_of_reviews                   int64\n",
              "last_review                        object\n",
              "reviews_per_month                 float64\n",
              "calculated_host_listings_count      int64\n",
              "availability_365                    int64\n",
              "dtype: object"
            ]
          },
          "metadata": {},
          "execution_count": 8
        }
      ]
    },
    {
      "cell_type": "code",
      "source": [
        "ds['last_review'] = pd.to_numeric(ds['last_review'], errors='coerce')\n",
        "ds.dtypes\n"
      ],
      "metadata": {
        "colab": {
          "base_uri": "https://localhost:8080/"
        },
        "id": "_A7bvsfkPQ3V",
        "outputId": "c5882008-0676-461e-9211-b3ef03a1e8ba"
      },
      "execution_count": null,
      "outputs": [
        {
          "output_type": "execute_result",
          "data": {
            "text/plain": [
              "id                                  int64\n",
              "name                               object\n",
              "host_id                             int64\n",
              "host_name                          object\n",
              "neighbourhood_group                object\n",
              "neighbourhood                      object\n",
              "latitude                          float64\n",
              "longitude                         float64\n",
              "room_type                          object\n",
              "price                               int64\n",
              "minimum_nights                      int64\n",
              "number_of_reviews                   int64\n",
              "last_review                       float64\n",
              "reviews_per_month                 float64\n",
              "calculated_host_listings_count      int64\n",
              "availability_365                    int64\n",
              "dtype: object"
            ]
          },
          "metadata": {},
          "execution_count": 9
        }
      ]
    },
    {
      "cell_type": "code",
      "source": [
        "# Impute missing values for columns (last_review and reviews_per_month) using the mean\n",
        "last_review = ds['last_review']\n",
        "reviews_per_month = ds['reviews_per_month']\n",
        "\n",
        "mean_last_review = ds['last_review'].mean()\n",
        "mean_reviews_per_month = ds['reviews_per_month'].mean()\n",
        "\n",
        "ds['last_review'].fillna(mean_last_review, inplace=True)\n",
        "ds['reviews_per_month'].fillna(mean_reviews_per_month, inplace=True)\n",
        "\n",
        "# Save the dataset with imputed missing values\n",
        "ds.to_csv(\"imputed_dataset.csv\", index=False)\n"
      ],
      "metadata": {
        "id": "e3N0_FsAPUzL"
      },
      "execution_count": null,
      "outputs": []
    },
    {
      "cell_type": "code",
      "source": [
        "#checking for null values in the coloumn last_review , reviews_per_month\n",
        "ds.isnull().sum()"
      ],
      "metadata": {
        "colab": {
          "base_uri": "https://localhost:8080/"
        },
        "id": "_PeQATekPaSW",
        "outputId": "b999d311-c2f1-47be-e4d6-013f7907ee4b"
      },
      "execution_count": null,
      "outputs": [
        {
          "output_type": "execute_result",
          "data": {
            "text/plain": [
              "id                                    0\n",
              "name                                 16\n",
              "host_id                               0\n",
              "host_name                            21\n",
              "neighbourhood_group                   0\n",
              "neighbourhood                         0\n",
              "latitude                              0\n",
              "longitude                             0\n",
              "room_type                             0\n",
              "price                                 0\n",
              "minimum_nights                        0\n",
              "number_of_reviews                     0\n",
              "last_review                       48895\n",
              "reviews_per_month                     0\n",
              "calculated_host_listings_count        0\n",
              "availability_365                      0\n",
              "dtype: int64"
            ]
          },
          "metadata": {},
          "execution_count": 11
        }
      ]
    },
    {
      "cell_type": "code",
      "source": [
        "# Fill missing values in the 'name' , 'host_name'column with \"Unknown\"\n",
        "ds['name'].fillna(\"Unknown\", inplace=True)\n",
        "ds['host_name'].fillna(\"Unknown\", inplace=True)\n",
        "\n",
        "# Save the dataset with filled missing values\n",
        "ds.to_csv(\"filled_dataset.csv\", index=False)"
      ],
      "metadata": {
        "id": "TWhyQt6fPfGr"
      },
      "execution_count": null,
      "outputs": []
    },
    {
      "cell_type": "code",
      "source": [
        "# all the missing values has been cleared\n",
        "ds.isnull().sum()"
      ],
      "metadata": {
        "colab": {
          "base_uri": "https://localhost:8080/"
        },
        "id": "SGgtkxwtPnow",
        "outputId": "9ec49ff1-06eb-493a-bcac-d4bc42d086ac"
      },
      "execution_count": null,
      "outputs": [
        {
          "output_type": "execute_result",
          "data": {
            "text/plain": [
              "id                                    0\n",
              "name                                  0\n",
              "host_id                               0\n",
              "host_name                             0\n",
              "neighbourhood_group                   0\n",
              "neighbourhood                         0\n",
              "latitude                              0\n",
              "longitude                             0\n",
              "room_type                             0\n",
              "price                                 0\n",
              "minimum_nights                        0\n",
              "number_of_reviews                     0\n",
              "last_review                       48895\n",
              "reviews_per_month                     0\n",
              "calculated_host_listings_count        0\n",
              "availability_365                      0\n",
              "dtype: int64"
            ]
          },
          "metadata": {},
          "execution_count": 13
        }
      ]
    },
    {
      "cell_type": "code",
      "source": [
        "# Check for duplicate records\n",
        "duplicate_rows = ds[ds.duplicated()]\n",
        "print(\"Duplicate records:\\n\", duplicate_rows)"
      ],
      "metadata": {
        "colab": {
          "base_uri": "https://localhost:8080/"
        },
        "id": "6FId20ROPou7",
        "outputId": "1ab5583f-b119-4cb3-d9cb-54186d91ea3e"
      },
      "execution_count": null,
      "outputs": [
        {
          "output_type": "stream",
          "name": "stdout",
          "text": [
            "Duplicate records:\n",
            " Empty DataFrame\n",
            "Columns: [id, name, host_id, host_name, neighbourhood_group, neighbourhood, latitude, longitude, room_type, price, minimum_nights, number_of_reviews, last_review, reviews_per_month, calculated_host_listings_count, availability_365]\n",
            "Index: []\n"
          ]
        }
      ]
    },
    {
      "cell_type": "code",
      "source": [
        "# Remove duplicate records\n",
        "cleaned_ds = ds.drop_duplicates()\n",
        "\n",
        "# Save the cleaned dataset without duplicates\n",
        "cleaned_ds.to_csv(\"cleaned_dataset.csv\", index=False)"
      ],
      "metadata": {
        "id": "ysyeE1QwPtxQ"
      },
      "execution_count": null,
      "outputs": []
    },
    {
      "cell_type": "code",
      "source": [
        "#Standardizing numerical columns\n",
        "# Select only numerical columns\n",
        "numerical_cols = ds.select_dtypes(include=[np.number]).columns\n",
        "\n",
        "# Instantiate StandardScaler\n",
        "scaler = StandardScaler()\n",
        "\n",
        "# Standardize numerical columns containing zero values\n",
        "for col in numerical_cols:\n",
        "    col_data = ds[col].values # Use ds here\n",
        "    if np.any(col_data == 0):\n",
        "        # Calculate mean and standard deviation, ignoring zero values\n",
        "        non_zero_data = col_data[col_data != 0]\n",
        "        mean = np.mean(non_zero_data)\n",
        "        std_dev = np.std(non_zero_data)"
      ],
      "metadata": {
        "id": "Z56eSTeOTwsO"
      },
      "execution_count": 12,
      "outputs": []
    },
    {
      "cell_type": "code",
      "source": [
        "\n",
        "        # Replace zero standard deviation with 1 to prevent division by zero\n",
        "        if std_dev == 0:\n",
        "            std_dev = 1\n",
        "\n",
        "        # Perform standardization\n",
        "        ds[col] = (col_data - mean) / std_dev\n",
        "\n",
        "print(\"Standardized Data:\")\n",
        "print(ds)"
      ],
      "metadata": {
        "colab": {
          "base_uri": "https://localhost:8080/"
        },
        "id": "Y7CTO2KSUujp",
        "outputId": "bb88044a-d6d1-4889-984a-da1b6b15318a"
      },
      "execution_count": 11,
      "outputs": [
        {
          "output_type": "stream",
          "name": "stdout",
          "text": [
            "Standardized Data:\n",
            "             id                                               name   host_id  \\\n",
            "0          2539                 Clean & quiet apt home by the park      2787   \n",
            "1          2595                              Skylit Midtown Castle      2845   \n",
            "2          3647                THE VILLAGE OF HARLEM....NEW YORK !      4632   \n",
            "3          3831                    Cozy Entire Floor of Brownstone      4869   \n",
            "4          5022   Entire Apt: Spacious Studio/Loft by central park      7192   \n",
            "...         ...                                                ...       ...   \n",
            "48890  36484665    Charming one bedroom - newly renovated rowhouse   8232441   \n",
            "48891  36485057      Affordable room in Bushwick/East Williamsburg   6570630   \n",
            "48892  36485431            Sunny Studio at Historical Neighborhood  23492952   \n",
            "48893  36485609               43rd St. Time Square-cozy single bed  30985759   \n",
            "48894  36487245  Trendy duplex in the very heart of Hell's Kitchen  68119814   \n",
            "\n",
            "           host_name neighbourhood_group       neighbourhood  latitude  \\\n",
            "0               John            Brooklyn          Kensington  40.64749   \n",
            "1           Jennifer           Manhattan             Midtown  40.75362   \n",
            "2          Elisabeth           Manhattan              Harlem  40.80902   \n",
            "3        LisaRoxanne            Brooklyn        Clinton Hill  40.68514   \n",
            "4              Laura           Manhattan         East Harlem  40.79851   \n",
            "...              ...                 ...                 ...       ...   \n",
            "48890        Sabrina            Brooklyn  Bedford-Stuyvesant  40.67853   \n",
            "48891        Marisol            Brooklyn            Bushwick  40.70184   \n",
            "48892  Ilgar & Aysel           Manhattan              Harlem  40.81475   \n",
            "48893            Taz           Manhattan      Hell's Kitchen  40.75751   \n",
            "48894     Christophe           Manhattan      Hell's Kitchen  40.76404   \n",
            "\n",
            "       longitude        room_type  price  minimum_nights  number_of_reviews  \\\n",
            "0      -73.97237     Private room    149               1                  9   \n",
            "1      -73.98377  Entire home/apt    225               1                 45   \n",
            "2      -73.94190     Private room    150               3                  0   \n",
            "3      -73.95976  Entire home/apt     89               1                270   \n",
            "4      -73.94399  Entire home/apt     80              10                  9   \n",
            "...          ...              ...    ...             ...                ...   \n",
            "48890  -73.94995     Private room     70               2                  0   \n",
            "48891  -73.93317     Private room     40               4                  0   \n",
            "48892  -73.94867  Entire home/apt    115              10                  0   \n",
            "48893  -73.99112      Shared room     55               1                  0   \n",
            "48894  -73.98933     Private room     90               7                  0   \n",
            "\n",
            "      last_review  reviews_per_month  calculated_host_listings_count  \\\n",
            "0      19-10-2018               0.21                               6   \n",
            "1      21-05-2019               0.38                               2   \n",
            "2             NaN                NaN                               1   \n",
            "3      05-07-2019               4.64                               1   \n",
            "4      19-11-2018               0.10                               1   \n",
            "...           ...                ...                             ...   \n",
            "48890         NaN                NaN                               2   \n",
            "48891         NaN                NaN                               2   \n",
            "48892         NaN                NaN                               1   \n",
            "48893         NaN                NaN                               6   \n",
            "48894         NaN                NaN                               1   \n",
            "\n",
            "       availability_365  \n",
            "0              1.499125  \n",
            "1              1.419877  \n",
            "2              1.499125  \n",
            "3              0.143978  \n",
            "4             -1.393439  \n",
            "...                 ...  \n",
            "48890         -1.322116  \n",
            "48891         -1.108145  \n",
            "48892         -1.179469  \n",
            "48893         -1.377590  \n",
            "48894         -1.211168  \n",
            "\n",
            "[48895 rows x 16 columns]\n"
          ]
        }
      ]
    },
    {
      "cell_type": "code",
      "source": [
        "# Standardizing string columns\n",
        "# Converting all string columns to lowercase\n",
        "ds['name'] = ds['name'].str.lower().str.strip()\n",
        "ds['host_name'] = ds['host_name'].str.lower().str.strip()\n",
        "ds['neighbourhood_group'] = ds['neighbourhood_group'].str.lower().str.strip()\n",
        "ds['neighbourhood'] = ds['neighbourhood'].str.lower().str.strip()\n",
        "ds['room_type'] = ds['room_type'].str.lower().str.strip()\n",
        "\n",
        "\n",
        "# Display the standardized dataset\n",
        "print(ds)\n"
      ],
      "metadata": {
        "colab": {
          "base_uri": "https://localhost:8080/"
        },
        "id": "rgW3pyB_T2Yc",
        "outputId": "3dba6777-6460-455e-9962-abe117cedfd7"
      },
      "execution_count": null,
      "outputs": [
        {
          "output_type": "stream",
          "name": "stdout",
          "text": [
            "             id                                               name   host_id  \\\n",
            "0          2539                 clean & quiet apt home by the park      2787   \n",
            "1          2595                              skylit midtown castle      2845   \n",
            "2          3647                the village of harlem....new york !      4632   \n",
            "3          3831                    cozy entire floor of brownstone      4869   \n",
            "4          5022   entire apt: spacious studio/loft by central park      7192   \n",
            "...         ...                                                ...       ...   \n",
            "48890  36484665    charming one bedroom - newly renovated rowhouse   8232441   \n",
            "48891  36485057      affordable room in bushwick/east williamsburg   6570630   \n",
            "48892  36485431            sunny studio at historical neighborhood  23492952   \n",
            "48893  36485609               43rd st. time square-cozy single bed  30985759   \n",
            "48894  36487245  trendy duplex in the very heart of hell's kitchen  68119814   \n",
            "\n",
            "           host_name neighbourhood_group       neighbourhood  latitude  \\\n",
            "0               john            brooklyn          kensington -1.493849   \n",
            "1           jennifer           manhattan             midtown  0.452436   \n",
            "2          elisabeth           manhattan              harlem  1.468399   \n",
            "3        lisaroxanne            brooklyn        clinton hill -0.803398   \n",
            "4              laura           manhattan         east harlem  1.275660   \n",
            "...              ...                 ...                 ...       ...   \n",
            "48890        sabrina            brooklyn  bedford-stuyvesant -0.924616   \n",
            "48891        marisol            brooklyn            bushwick -0.497141   \n",
            "48892  ilgar & aysel           manhattan              harlem  1.573480   \n",
            "48893            taz           manhattan      hell's kitchen  0.523774   \n",
            "48894     christophe           manhattan      hell's kitchen  0.643525   \n",
            "\n",
            "       longitude        room_type  price  minimum_nights  number_of_reviews  \\\n",
            "0      -0.437652     private room    149               1                  9   \n",
            "1      -0.684639  entire home/apt    225               1                 45   \n",
            "2       0.222497     private room    150               3                  0   \n",
            "3      -0.164450  entire home/apt     89               1                270   \n",
            "4       0.177216  entire home/apt     80              10                  9   \n",
            "...          ...              ...    ...             ...                ...   \n",
            "48890   0.048089     private room     70               2                  0   \n",
            "48891   0.411637     private room     40               4                  0   \n",
            "48892   0.075821  entire home/apt    115              10                  0   \n",
            "48893  -0.843881      shared room     55               1                  0   \n",
            "48894  -0.805100     private room     90               7                  0   \n",
            "\n",
            "       last_review  reviews_per_month  calculated_host_listings_count  \\\n",
            "0              NaN          -0.776641                               6   \n",
            "1              NaN          -0.663138                               2   \n",
            "2              NaN           0.000000                               1   \n",
            "3              NaN           2.181110                               1   \n",
            "4              NaN          -0.850084                               1   \n",
            "...            ...                ...                             ...   \n",
            "48890          NaN           0.000000                               2   \n",
            "48891          NaN           0.000000                               2   \n",
            "48892          NaN           0.000000                               1   \n",
            "48893          NaN           0.000000                               6   \n",
            "48894          NaN           0.000000                               1   \n",
            "\n",
            "       availability_365  \n",
            "0              1.916250  \n",
            "1              1.840275  \n",
            "2              1.916250  \n",
            "3              0.617065  \n",
            "4             -0.856865  \n",
            "...                 ...  \n",
            "48890         -0.788486  \n",
            "48891         -0.583352  \n",
            "48892         -0.651730  \n",
            "48893         -0.841669  \n",
            "48894         -0.682120  \n",
            "\n",
            "[48895 rows x 16 columns]\n"
          ]
        }
      ]
    },
    {
      "cell_type": "code",
      "source": [
        "#  Identify numeric columns\n",
        "numeric_cols = ds.select_dtypes(include=[np.number]).columns\n",
        "\n",
        "# Calculate Z-scores for numeric columns\n",
        "z_scores = stats.zscore(ds[numeric_cols])\n",
        "\n",
        "# Convert Z-scores to a DataFrame with the same column names\n",
        "z_scores_ds = pd.DataFrame(z_scores, columns=numeric_cols)\n",
        "\n",
        "# Identify outliers using Z-score threshold (e.g., |z| > 3)\n",
        "threshold = 3\n",
        "outliers = z_scores_ds.abs() > threshold\n",
        "\n",
        "# Impute outliers with the median value of the column\n",
        "ds_imputed = ds.copy()\n",
        "for column in numeric_cols:\n",
        "    median_value = ds_imputed[column].median()\n",
        "    ds_imputed.loc[outliers[column], column] = median_value\n",
        "\n",
        "# Display the cleaned dataset\n",
        "print(\"Original dataset:\\n\", ds)\n",
        "print(\"\\nDataset with outliers imputed:\\n\", ds_imputed)\n"
      ],
      "metadata": {
        "colab": {
          "base_uri": "https://localhost:8080/"
        },
        "id": "hnmnVuGqTQp4",
        "outputId": "6013a9f4-b0b5-4e64-da0a-709d1ef1a87a"
      },
      "execution_count": 13,
      "outputs": [
        {
          "output_type": "stream",
          "name": "stdout",
          "text": [
            "Original dataset:\n",
            "              id                                               name   host_id  \\\n",
            "0          2539                 Clean & quiet apt home by the park      2787   \n",
            "1          2595                              Skylit Midtown Castle      2845   \n",
            "2          3647                THE VILLAGE OF HARLEM....NEW YORK !      4632   \n",
            "3          3831                    Cozy Entire Floor of Brownstone      4869   \n",
            "4          5022   Entire Apt: Spacious Studio/Loft by central park      7192   \n",
            "...         ...                                                ...       ...   \n",
            "48890  36484665    Charming one bedroom - newly renovated rowhouse   8232441   \n",
            "48891  36485057      Affordable room in Bushwick/East Williamsburg   6570630   \n",
            "48892  36485431            Sunny Studio at Historical Neighborhood  23492952   \n",
            "48893  36485609               43rd St. Time Square-cozy single bed  30985759   \n",
            "48894  36487245  Trendy duplex in the very heart of Hell's Kitchen  68119814   \n",
            "\n",
            "           host_name neighbourhood_group       neighbourhood  latitude  \\\n",
            "0               John            Brooklyn          Kensington  40.64749   \n",
            "1           Jennifer           Manhattan             Midtown  40.75362   \n",
            "2          Elisabeth           Manhattan              Harlem  40.80902   \n",
            "3        LisaRoxanne            Brooklyn        Clinton Hill  40.68514   \n",
            "4              Laura           Manhattan         East Harlem  40.79851   \n",
            "...              ...                 ...                 ...       ...   \n",
            "48890        Sabrina            Brooklyn  Bedford-Stuyvesant  40.67853   \n",
            "48891        Marisol            Brooklyn            Bushwick  40.70184   \n",
            "48892  Ilgar & Aysel           Manhattan              Harlem  40.81475   \n",
            "48893            Taz           Manhattan      Hell's Kitchen  40.75751   \n",
            "48894     Christophe           Manhattan      Hell's Kitchen  40.76404   \n",
            "\n",
            "       longitude        room_type  price  minimum_nights  number_of_reviews  \\\n",
            "0      -73.97237     Private room    149               1                  9   \n",
            "1      -73.98377  Entire home/apt    225               1                 45   \n",
            "2      -73.94190     Private room    150               3                  0   \n",
            "3      -73.95976  Entire home/apt     89               1                270   \n",
            "4      -73.94399  Entire home/apt     80              10                  9   \n",
            "...          ...              ...    ...             ...                ...   \n",
            "48890  -73.94995     Private room     70               2                  0   \n",
            "48891  -73.93317     Private room     40               4                  0   \n",
            "48892  -73.94867  Entire home/apt    115              10                  0   \n",
            "48893  -73.99112      Shared room     55               1                  0   \n",
            "48894  -73.98933     Private room     90               7                  0   \n",
            "\n",
            "      last_review  reviews_per_month  calculated_host_listings_count  \\\n",
            "0      19-10-2018               0.21                               6   \n",
            "1      21-05-2019               0.38                               2   \n",
            "2             NaN                NaN                               1   \n",
            "3      05-07-2019               4.64                               1   \n",
            "4      19-11-2018               0.10                               1   \n",
            "...           ...                ...                             ...   \n",
            "48890         NaN                NaN                               2   \n",
            "48891         NaN                NaN                               2   \n",
            "48892         NaN                NaN                               1   \n",
            "48893         NaN                NaN                               6   \n",
            "48894         NaN                NaN                               1   \n",
            "\n",
            "       availability_365  \n",
            "0              1.499125  \n",
            "1              1.419877  \n",
            "2              1.499125  \n",
            "3              0.143978  \n",
            "4             -1.393439  \n",
            "...                 ...  \n",
            "48890         -1.322116  \n",
            "48891         -1.108145  \n",
            "48892         -1.179469  \n",
            "48893         -1.377590  \n",
            "48894         -1.211168  \n",
            "\n",
            "[48895 rows x 16 columns]\n",
            "\n",
            "Dataset with outliers imputed:\n",
            "              id                                               name   host_id  \\\n",
            "0          2539                 Clean & quiet apt home by the park      2787   \n",
            "1          2595                              Skylit Midtown Castle      2845   \n",
            "2          3647                THE VILLAGE OF HARLEM....NEW YORK !      4632   \n",
            "3          3831                    Cozy Entire Floor of Brownstone      4869   \n",
            "4          5022   Entire Apt: Spacious Studio/Loft by central park      7192   \n",
            "...         ...                                                ...       ...   \n",
            "48890  36484665    Charming one bedroom - newly renovated rowhouse   8232441   \n",
            "48891  36485057      Affordable room in Bushwick/East Williamsburg   6570630   \n",
            "48892  36485431            Sunny Studio at Historical Neighborhood  23492952   \n",
            "48893  36485609               43rd St. Time Square-cozy single bed  30985759   \n",
            "48894  36487245  Trendy duplex in the very heart of Hell's Kitchen  68119814   \n",
            "\n",
            "           host_name neighbourhood_group       neighbourhood  latitude  \\\n",
            "0               John            Brooklyn          Kensington  40.64749   \n",
            "1           Jennifer           Manhattan             Midtown  40.75362   \n",
            "2          Elisabeth           Manhattan              Harlem  40.80902   \n",
            "3        LisaRoxanne            Brooklyn        Clinton Hill  40.68514   \n",
            "4              Laura           Manhattan         East Harlem  40.79851   \n",
            "...              ...                 ...                 ...       ...   \n",
            "48890        Sabrina            Brooklyn  Bedford-Stuyvesant  40.67853   \n",
            "48891        Marisol            Brooklyn            Bushwick  40.70184   \n",
            "48892  Ilgar & Aysel           Manhattan              Harlem  40.81475   \n",
            "48893            Taz           Manhattan      Hell's Kitchen  40.75751   \n",
            "48894     Christophe           Manhattan      Hell's Kitchen  40.76404   \n",
            "\n",
            "       longitude        room_type  price  minimum_nights  number_of_reviews  \\\n",
            "0      -73.97237     Private room    149               1                  9   \n",
            "1      -73.98377  Entire home/apt    225               1                 45   \n",
            "2      -73.94190     Private room    150               3                  0   \n",
            "3      -73.95976  Entire home/apt     89               1                  5   \n",
            "4      -73.94399  Entire home/apt     80              10                  9   \n",
            "...          ...              ...    ...             ...                ...   \n",
            "48890  -73.94995     Private room     70               2                  0   \n",
            "48891  -73.93317     Private room     40               4                  0   \n",
            "48892  -73.94867  Entire home/apt    115              10                  0   \n",
            "48893  -73.99112      Shared room     55               1                  0   \n",
            "48894  -73.98933     Private room     90               7                  0   \n",
            "\n",
            "      last_review  reviews_per_month  calculated_host_listings_count  \\\n",
            "0      19-10-2018               0.21                               6   \n",
            "1      21-05-2019               0.38                               2   \n",
            "2             NaN                NaN                               1   \n",
            "3      05-07-2019               4.64                               1   \n",
            "4      19-11-2018               0.10                               1   \n",
            "...           ...                ...                             ...   \n",
            "48890         NaN                NaN                               2   \n",
            "48891         NaN                NaN                               2   \n",
            "48892         NaN                NaN                               1   \n",
            "48893         NaN                NaN                               6   \n",
            "48894         NaN                NaN                               1   \n",
            "\n",
            "       availability_365  \n",
            "0              1.499125  \n",
            "1              1.419877  \n",
            "2              1.499125  \n",
            "3              0.143978  \n",
            "4             -1.393439  \n",
            "...                 ...  \n",
            "48890         -1.322116  \n",
            "48891         -1.108145  \n",
            "48892         -1.179469  \n",
            "48893         -1.377590  \n",
            "48894         -1.211168  \n",
            "\n",
            "[48895 rows x 16 columns]\n"
          ]
        }
      ]
    },
    {
      "cell_type": "code",
      "source": [
        "# Step 5: Visualize the data\n",
        "\n",
        "# Scatter plot visualization\n",
        "plt.figure(figsize=(18, 6))\n",
        "\n",
        "# Original Data\n",
        "plt.subplot(1, 3, 1)\n",
        "plt.scatter(ds['id'], ds['reviews_per_month'], color='blue')\n",
        "plt.title('Original Data')\n",
        "plt.xlabel('id')\n",
        "plt.ylabel('reviews_per_month')\n",
        "\n",
        "# Outliers Highlighted\n",
        "plt.subplot(1, 3, 2)\n",
        "plt.scatter(ds['id'], ds['reviews_per_month'], color='blue')\n",
        "plt.scatter(ds[outliers.any(axis=1)]['id'], ds[outliers.any(axis=1)]['reviews_per_month'], color='red')\n",
        "plt.title('Data with Outliers Highlighted')\n",
        "plt.xlabel('id')\n",
        "plt.ylabel('reviews_per_month')\n",
        "\n",
        "# Data with Outliers Imputed\n",
        "plt.subplot(1, 3, 3)\n",
        "plt.scatter(ds_imputed['id'], ds_imputed['reviews_per_month'], color='green')\n",
        "plt.title('Data with Outliers Imputed')\n",
        "plt.xlabel('id')\n",
        "plt.ylabel('reviews_per_month')\n",
        "\n",
        "plt.tight_layout()"
      ],
      "metadata": {
        "colab": {
          "base_uri": "https://localhost:8080/",
          "height": 607
        },
        "id": "txRODF1fjFbw",
        "outputId": "da52ee13-3d75-4a66-973c-e63900cc466c"
      },
      "execution_count": null,
      "outputs": [
        {
          "output_type": "display_data",
          "data": {
            "text/plain": [
              "<Figure size 1800x600 with 3 Axes>"
            ],
            "image/png": "[encoded data removed]"
          },
          "metadata": {}
        }
      ]
    }
  ]
}